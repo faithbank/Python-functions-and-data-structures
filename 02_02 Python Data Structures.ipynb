{
 "cells": [
  {
   "cell_type": "markdown",
   "id": "dc9a6f21",
   "metadata": {},
   "source": [
    "# Python Data Structures"
   ]
  },
  {
   "cell_type": "markdown",
   "id": "61ea12f2",
   "metadata": {},
   "source": [
    "## Lists"
   ]
  },
  {
   "cell_type": "code",
   "execution_count": 1,
   "id": "1102b74b",
   "metadata": {},
   "outputs": [],
   "source": [
    "# Create a list using bracket syntax\n",
    "presidents= ['Washington', 'Adams', 'Jefferson']"
   ]
  },
  {
   "cell_type": "code",
   "execution_count": 3,
   "id": "95354879",
   "metadata": {},
   "outputs": [
    {
     "name": "stdout",
     "output_type": "stream",
     "text": [
      "First item in list:Washinton\n"
     ]
    }
   ],
   "source": [
    "# Assess using indes(0-indexed)\n",
    "print('First item in list:' + presidents[0])"
   ]
  },
  {
   "cell_type": "code",
   "execution_count": 4,
   "id": "2836af4b",
   "metadata": {},
   "outputs": [
    {
     "name": "stdout",
     "output_type": "stream",
     "text": [
      "First through third item in list: ['Washinton', 'Adams', 'Jefferson']\n"
     ]
    }
   ],
   "source": [
    "print('First through third item in list: ' +str(presidents[0:3]))"
   ]
  },
  {
   "cell_type": "code",
   "execution_count": 6,
   "id": "e473f1fc",
   "metadata": {},
   "outputs": [
    {
     "name": "stdout",
     "output_type": "stream",
     "text": [
      "loop through list items, one by one: \n",
      "Washinton\n",
      "Adams\n",
      "Jefferson\n"
     ]
    }
   ],
   "source": [
    "# Access all (use loop)\n",
    "print('loop through list items, one by one: ')\n",
    "for p in presidents:\n",
    "    print(p)"
   ]
  },
  {
   "cell_type": "code",
   "execution_count": 7,
   "id": "92e9ea2f",
   "metadata": {},
   "outputs": [
    {
     "name": "stdout",
     "output_type": "stream",
     "text": [
      "Add 'Madison' list item...\n",
      "All items: ['Washinton', 'Adams', 'Jefferson', 'Madison']\n"
     ]
    }
   ],
   "source": [
    "# Add list item\n",
    "print(\"Add 'Madison' list item...\")\n",
    "presidents.append('Madison')\n",
    "print('All items: ' +str(presidents))"
   ]
  },
  {
   "cell_type": "code",
   "execution_count": 8,
   "id": "b45533c7",
   "metadata": {},
   "outputs": [
    {
     "name": "stdout",
     "output_type": "stream",
     "text": [
      "Remove 'Madison' list item...\n",
      "All items: ['Washinton', 'Adams', 'Jefferson']\n"
     ]
    }
   ],
   "source": [
    "# Remove list item\n",
    "print(\"Remove 'Madison' list item...\")\n",
    "presidents.remove('Madison')\n",
    "print('All items: ' +str(presidents))"
   ]
  },
  {
   "cell_type": "markdown",
   "id": "3abbcd79",
   "metadata": {},
   "source": [
    "## Tuples"
   ]
  },
  {
   "cell_type": "code",
   "execution_count": 10,
   "id": "f2e0e44c",
   "metadata": {},
   "outputs": [],
   "source": [
    "# Create a tuple()\n",
    "presidents= ('Washington', 'Adams', 'Jefferson')"
   ]
  },
  {
   "cell_type": "code",
   "execution_count": 11,
   "id": "a7ea4894",
   "metadata": {},
   "outputs": [
    {
     "name": "stdout",
     "output_type": "stream",
     "text": [
      "First item in tuple:Washington\n"
     ]
    }
   ],
   "source": [
    "# Assess using indes(0-indexed)\n",
    "print('First item in tuple:' + presidents[0])"
   ]
  },
  {
   "cell_type": "code",
   "execution_count": 12,
   "id": "78754097",
   "metadata": {},
   "outputs": [
    {
     "name": "stdout",
     "output_type": "stream",
     "text": [
      "First through third item in tuple: ('Washington', 'Adams', 'Jefferson')\n"
     ]
    }
   ],
   "source": [
    "print('First through third item in tuple: ' +str(presidents[0:3]))"
   ]
  },
  {
   "cell_type": "code",
   "execution_count": 13,
   "id": "b526d4c2",
   "metadata": {},
   "outputs": [
    {
     "name": "stdout",
     "output_type": "stream",
     "text": [
      "loop through tuple items, one by one: \n",
      "Washington\n",
      "Adams\n",
      "Jefferson\n"
     ]
    }
   ],
   "source": [
    "# Access all (use loop)\n",
    "print('loop through tuple items, one by one: ')\n",
    "for p in presidents:\n",
    "    print(p)"
   ]
  },
  {
   "cell_type": "code",
   "execution_count": 16,
   "id": "2cfaa097",
   "metadata": {
    "collapsed": true
   },
   "outputs": [
    {
     "name": "stdout",
     "output_type": "stream",
     "text": [
      "Removing entire tuple\n"
     ]
    },
    {
     "ename": "NameError",
     "evalue": "name 'presidents' is not defined",
     "output_type": "error",
     "traceback": [
      "\u001b[1;31m---------------------------------------------------------------------------\u001b[0m",
      "\u001b[1;31mNameError\u001b[0m                                 Traceback (most recent call last)",
      "Input \u001b[1;32mIn [16]\u001b[0m, in \u001b[0;36m<cell line: 4>\u001b[1;34m()\u001b[0m\n\u001b[0;32m      2\u001b[0m \u001b[38;5;28mprint\u001b[39m(\u001b[38;5;124m'\u001b[39m\u001b[38;5;124mRemoving entire tuple\u001b[39m\u001b[38;5;124m'\u001b[39m)\n\u001b[0;32m      3\u001b[0m \u001b[38;5;28;01mdel\u001b[39;00m presidents\n\u001b[1;32m----> 4\u001b[0m \u001b[38;5;28mprint\u001b[39m(\u001b[43mpresidents\u001b[49m)\n",
      "\u001b[1;31mNameError\u001b[0m: name 'presidents' is not defined"
     ]
    }
   ],
   "source": [
    "# Remove entire tuple\n",
    "print('Removing entire tuple')\n",
    "del presidents\n",
    "print(presidents)"
   ]
  },
  {
   "cell_type": "markdown",
   "id": "f6af0502",
   "metadata": {},
   "source": [
    "## Dictionaries"
   ]
  },
  {
   "cell_type": "code",
   "execution_count": 18,
   "id": "7ca61f35",
   "metadata": {},
   "outputs": [],
   "source": [
    "# Create a dict {} curly brace syntax\n",
    "states = {'CO': 'Colorado', 'WA': 'Washington'}"
   ]
  },
  {
   "cell_type": "code",
   "execution_count": 19,
   "id": "74c58e16",
   "metadata": {},
   "outputs": [
    {
     "name": "stdout",
     "output_type": "stream",
     "text": [
      "Access value for 'CO': Colorado\n"
     ]
    }
   ],
   "source": [
    "# Access value for single key\n",
    "print(\"Access value for 'CO': \" + states['CO'])"
   ]
  },
  {
   "cell_type": "code",
   "execution_count": 20,
   "id": "beab27e1",
   "metadata": {},
   "outputs": [
    {
     "name": "stdout",
     "output_type": "stream",
     "text": [
      "Loop through dictionary, one by one:\n",
      "CO->Colorado\n",
      "WA->Washington\n"
     ]
    }
   ],
   "source": [
    "# Access all (use loop)\n",
    "print('Loop through dictionary, one by one:')\n",
    "for key,value in states.items():\n",
    "    print(key+ '->' + value)"
   ]
  },
  {
   "cell_type": "code",
   "execution_count": 23,
   "id": "549dd636",
   "metadata": {},
   "outputs": [
    {
     "name": "stdout",
     "output_type": "stream",
     "text": [
      "Add 'Indiana' to dictionary...\n",
      "All key-value pairs: {'CO': 'Colorado', 'WA': 'Washington', 'IN': 'Indiana'}\n"
     ]
    }
   ],
   "source": [
    "# Add key-value pairs\n",
    "print(\"Add 'Indiana' to dictionary...\")\n",
    "states.update({'IN': 'Indiana'})\n",
    "print(\"All key-value pairs: \" + str(states))"
   ]
  },
  {
   "cell_type": "code",
   "execution_count": 24,
   "id": "cc66efa8",
   "metadata": {},
   "outputs": [
    {
     "name": "stdout",
     "output_type": "stream",
     "text": [
      "Remove 'Indiana' from dictionary...\n",
      "All key-value pairs: {'CO': 'Colorado', 'WA': 'Washington'}\n"
     ]
    }
   ],
   "source": [
    "# Remove key-value pair\n",
    "print(\"Remove 'Indiana' from dictionary...\")\n",
    "del states['IN']\n",
    "print(\"All key-value pairs: \" +str(states))"
   ]
  },
  {
   "cell_type": "markdown",
   "id": "964e34dd",
   "metadata": {},
   "source": [
    "## Using lists as stacks"
   ]
  },
  {
   "cell_type": "code",
   "execution_count": 25,
   "id": "1a097395",
   "metadata": {},
   "outputs": [],
   "source": [
    "stack = [3,4,5]"
   ]
  },
  {
   "cell_type": "code",
   "execution_count": 27,
   "id": "6142a28c",
   "metadata": {},
   "outputs": [],
   "source": [
    "# To add elements to the stack\n",
    "stack.append(6)\n",
    "stack.append(7)"
   ]
  },
  {
   "cell_type": "code",
   "execution_count": 28,
   "id": "9b3a05c6",
   "metadata": {},
   "outputs": [
    {
     "data": {
      "text/plain": [
       "[3, 4, 5, 6, 6, 7]"
      ]
     },
     "execution_count": 28,
     "metadata": {},
     "output_type": "execute_result"
    }
   ],
   "source": [
    "stack"
   ]
  },
  {
   "cell_type": "code",
   "execution_count": 32,
   "id": "bfac14e2",
   "metadata": {},
   "outputs": [
    {
     "data": {
      "text/plain": [
       "7"
      ]
     },
     "execution_count": 32,
     "metadata": {},
     "output_type": "execute_result"
    }
   ],
   "source": [
    "# To remove elements from stack\n",
    "stack.pop()"
   ]
  },
  {
   "cell_type": "code",
   "execution_count": 33,
   "id": "e006f6f8",
   "metadata": {},
   "outputs": [
    {
     "data": {
      "text/plain": [
       "[3, 4, 5, 6, 6]"
      ]
     },
     "execution_count": 33,
     "metadata": {},
     "output_type": "execute_result"
    }
   ],
   "source": [
    "stack"
   ]
  },
  {
   "cell_type": "markdown",
   "id": "d7aef312",
   "metadata": {},
   "source": [
    "## Using lists as Queues"
   ]
  },
  {
   "cell_type": "code",
   "execution_count": 34,
   "id": "7b5478d8",
   "metadata": {},
   "outputs": [],
   "source": [
    "# Use collections.deque for faster appends and pops from both ends\n",
    "from collections import deque\n",
    "queue = deque(['Eric', 'John', 'Michael'])"
   ]
  },
  {
   "cell_type": "code",
   "execution_count": 36,
   "id": "c456c2ba",
   "metadata": {},
   "outputs": [],
   "source": [
    "queue.append('Terry')"
   ]
  },
  {
   "cell_type": "code",
   "execution_count": 37,
   "id": "362beb97",
   "metadata": {},
   "outputs": [
    {
     "data": {
      "text/plain": [
       "deque(['Eric', 'John', 'Michael', 'Terry', 'Terry'])"
      ]
     },
     "execution_count": 37,
     "metadata": {},
     "output_type": "execute_result"
    }
   ],
   "source": [
    "queue"
   ]
  },
  {
   "cell_type": "code",
   "execution_count": 38,
   "id": "c656d2e0",
   "metadata": {},
   "outputs": [
    {
     "data": {
      "text/plain": [
       "'Eric'"
      ]
     },
     "execution_count": 38,
     "metadata": {},
     "output_type": "execute_result"
    }
   ],
   "source": [
    "# To remove the first to arrive\n",
    "queue.popleft()"
   ]
  },
  {
   "cell_type": "code",
   "execution_count": 42,
   "id": "2874b50a",
   "metadata": {},
   "outputs": [
    {
     "data": {
      "text/plain": [
       "deque(['John', 'Michael', 'Terry', 'Terry'])"
      ]
     },
     "execution_count": 42,
     "metadata": {},
     "output_type": "execute_result"
    }
   ],
   "source": [
    "queue"
   ]
  },
  {
   "cell_type": "markdown",
   "id": "7cd0e987",
   "metadata": {},
   "source": [
    "## List Comprehensions"
   ]
  },
  {
   "cell_type": "code",
   "execution_count": 46,
   "id": "01bbaf81",
   "metadata": {},
   "outputs": [
    {
     "data": {
      "text/plain": [
       "[0, 1, 4, 9, 16, 25, 36, 49, 64, 81]"
      ]
     },
     "execution_count": 46,
     "metadata": {},
     "output_type": "execute_result"
    }
   ],
   "source": [
    "# Comprehensions are more coincise ways to make lists\n",
    "squares = []\n",
    "for x in range(10):\n",
    "    squares.append(x**2)\n",
    "squares"
   ]
  },
  {
   "cell_type": "code",
   "execution_count": 48,
   "id": "70cf4ee5",
   "metadata": {},
   "outputs": [
    {
     "data": {
      "text/plain": [
       "[0, 1, 4, 9, 16, 25, 36, 49, 64, 81]"
      ]
     },
     "execution_count": 48,
     "metadata": {},
     "output_type": "execute_result"
    }
   ],
   "source": [
    "# Same as:\n",
    "squares = list(map(lambda x: x**2, range(10)))\n",
    "squares"
   ]
  },
  {
   "cell_type": "code",
   "execution_count": 50,
   "id": "ff4d4843",
   "metadata": {},
   "outputs": [
    {
     "data": {
      "text/plain": [
       "[0, 1, 4, 9, 16, 25, 36, 49, 64, 81]"
      ]
     },
     "execution_count": 50,
     "metadata": {},
     "output_type": "execute_result"
    }
   ],
   "source": [
    "# Also:\n",
    "squares = [x**2 for x in range(10)]\n",
    "squares"
   ]
  },
  {
   "cell_type": "code",
   "execution_count": 51,
   "id": "a71957c5",
   "metadata": {},
   "outputs": [
    {
     "data": {
      "text/plain": [
       "[(1, 3), (1, 4), (2, 3), (2, 1), (2, 4), (3, 1), (3, 4)]"
      ]
     },
     "execution_count": 51,
     "metadata": {},
     "output_type": "execute_result"
    }
   ],
   "source": [
    "# A list comprehension consists of brackets followed by a for clause then zero or more for or if clauses\n",
    "[(x,y) for x in[1,2,3] for y in [3,1,4] if x!=y]"
   ]
  },
  {
   "cell_type": "code",
   "execution_count": 52,
   "id": "41a4cc1f",
   "metadata": {},
   "outputs": [
    {
     "data": {
      "text/plain": [
       "[(1, 3), (1, 4), (2, 3), (2, 1), (2, 4), (3, 1), (3, 4)]"
      ]
     },
     "execution_count": 52,
     "metadata": {},
     "output_type": "execute_result"
    }
   ],
   "source": [
    "# Or:\n",
    "combs = []\n",
    "for x in [1,2,3]:\n",
    "    for y in [3,1,4]:\n",
    "        if x!= y:\n",
    "            combs.append((x,y))\n",
    "combs"
   ]
  },
  {
   "cell_type": "code",
   "execution_count": null,
   "id": "7a32dd4a",
   "metadata": {},
   "outputs": [],
   "source": []
  }
 ],
 "metadata": {
  "kernelspec": {
   "display_name": "Python 3 (ipykernel)",
   "language": "python",
   "name": "python3"
  },
  "language_info": {
   "codemirror_mode": {
    "name": "ipython",
    "version": 3
   },
   "file_extension": ".py",
   "mimetype": "text/x-python",
   "name": "python",
   "nbconvert_exporter": "python",
   "pygments_lexer": "ipython3",
   "version": "3.9.12"
  }
 },
 "nbformat": 4,
 "nbformat_minor": 5
}
